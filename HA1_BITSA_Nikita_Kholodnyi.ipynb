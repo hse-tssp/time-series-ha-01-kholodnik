{
  "nbformat": 4,
  "nbformat_minor": 0,
  "metadata": {
    "kernelspec": {
      "display_name": "Python 3",
      "language": "python",
      "name": "python3"
    },
    "language_info": {
      "codemirror_mode": {
        "name": "ipython",
        "version": 3
      },
      "file_extension": ".py",
      "mimetype": "text/x-python",
      "name": "python",
      "nbconvert_exporter": "python",
      "pygments_lexer": "ipython3",
      "version": "3.7.0"
    },
    "colab": {
      "name": "BI_TSA_HA_1.ipynb",
      "provenance": [],
      "collapsed_sections": []
    }
  },
  "cells": [
    {
      "cell_type": "markdown",
      "metadata": {
        "id": "-kczuBVp1d7O"
      },
      "source": [
        "## Time Series Analysis: Home Assignment 1"
      ]
    },
    {
      "cell_type": "markdown",
      "metadata": {
        "id": "YSQvOS1K1d7U"
      },
      "source": [
        "due to **11.02.21 23:00**\n",
        "\n",
        "You need to upload HA1 to github repository,  the link will be provided later."
      ]
    },
    {
      "cell_type": "markdown",
      "metadata": {
        "id": "9uSIWpXK1d7V"
      },
      "source": [
        "Enter your name below: "
      ]
    },
    {
      "cell_type": "code",
      "metadata": {
        "id": "hUtQIL2v1d7W"
      },
      "source": [
        "name='Nikita Kholodnyi' "
      ],
      "execution_count": 2,
      "outputs": []
    },
    {
      "cell_type": "markdown",
      "metadata": {
        "id": "g6euZTfi1d7W"
      },
      "source": [
        "### Contents"
      ]
    },
    {
      "cell_type": "markdown",
      "metadata": {
        "id": "iU50N3Vl1d7W"
      },
      "source": [
        "1. **Data preparation (7 points)**\n",
        "\n",
        "    $1.0$ Download data and import functions\n",
        "    \n",
        "    $1.1$ Read data (1 pt.)\n",
        "    \n",
        "    $1.2$ Check NAs (1 pt.)\n",
        "    \n",
        "    $1.3$ Transform dates (2 pt.)\n",
        "    \n",
        "    $1.4$. Make some plots (0.75 pt.)\n",
        "    \n",
        "    $1.5$ Split the data (0.75 pt.)\n",
        "    \n",
        " \n",
        "2. **ETS (7 points)**\n",
        "\n",
        "    $2.1$ Estimate ETS (1 pt.)\n",
        "    \n",
        "    $2.2$ Point forecasts (1 pt.)\n",
        "    \n",
        "    $2.3$ Interval forecasts 1 (1 pt.)\n",
        "    \n",
        "    $2.4$ Interval forecasts 2 (1 pt.)\n",
        "    \n",
        "    $2.5$ Forecast quality metrics (2 pt.)\n",
        "    \n",
        "    $2.6$ Model comparison (1 pt.)\n",
        "    "
      ]
    },
    {
      "cell_type": "markdown",
      "metadata": {
        "id": "8BByysAY1d7X"
      },
      "source": [
        "## 1. Data preparation (7 pt.)"
      ]
    },
    {
      "cell_type": "markdown",
      "metadata": {
        "id": "IRmx7AGy1d7X"
      },
      "source": [
        "### 1.0 Download data and import functions\n",
        "[back to contents](#Contents)"
      ]
    },
    {
      "cell_type": "markdown",
      "metadata": {
        "id": "WfGtk_0C1d7a"
      },
      "source": [
        "You have to download [BI_TSA_HA_1_data.csv](https://github.com/bdemeshev/ts603/blob/master/2021-spring/BI_TSA_HA_1_data.csv), which represents quarterly sales of Walmart from 1984 to 2020. The sourse of the data is [ycharts.com](https://ycharts.com/companies/WMT/revenues). "
      ]
    },
    {
      "cell_type": "code",
      "metadata": {
        "id": "JK1e7cUg1d7a",
        "colab": {
          "base_uri": "https://localhost:8080/"
        },
        "outputId": "d81006af-d164-4d72-a097-8d5f71fa74b7"
      },
      "source": [
        "!pip install sktime\n",
        "import pandas as pd\n",
        "import numpy as np\n",
        "from sktime.utils.plotting import plot_series\n",
        "from sktime.forecasting.model_selection import temporal_train_test_split\n",
        "from statsmodels.tsa.exponential_smoothing.ets import ETSModel\n",
        "from sklearn.metrics import  mean_absolute_error, mean_squared_error"
      ],
      "execution_count": 19,
      "outputs": [
        {
          "output_type": "stream",
          "text": [
            "Collecting sktime\n",
            "\u001b[?25l  Downloading https://files.pythonhosted.org/packages/23/33/9c41660bf00420033a6e07809491263cc9a7d889ec4dfb2f7ea4a2f1bb63/sktime-0.5.3-cp36-cp36m-manylinux2014_x86_64.whl (5.7MB)\n",
            "\u001b[K     |████████████████████████████████| 5.7MB 3.7MB/s \n",
            "\u001b[?25hRequirement already satisfied: pandas>=1.1.0 in /usr/local/lib/python3.6/dist-packages (from sktime) (1.1.5)\n",
            "Requirement already satisfied: numba>=0.50 in /usr/local/lib/python3.6/dist-packages (from sktime) (0.51.2)\n",
            "Requirement already satisfied: wheel in /usr/local/lib/python3.6/dist-packages (from sktime) (0.36.2)\n",
            "Requirement already satisfied: numpy>=1.19.0 in /usr/local/lib/python3.6/dist-packages (from sktime) (1.19.5)\n",
            "Collecting statsmodels>=0.12.1\n",
            "\u001b[?25l  Downloading https://files.pythonhosted.org/packages/0d/7b/c17815648dc31396af865b9c6627cc3f95705954e30f61106795361c39ee/statsmodels-0.12.2-cp36-cp36m-manylinux1_x86_64.whl (9.5MB)\n",
            "\u001b[K     |████████████████████████████████| 9.5MB 35.9MB/s \n",
            "\u001b[?25hCollecting scikit-learn>=0.23.0\n",
            "\u001b[?25l  Downloading https://files.pythonhosted.org/packages/e2/4c/6111b9a325f29527d7f262e2ee8c730d354b47a728d955e186dacad57a0d/scikit_learn-0.24.1-cp36-cp36m-manylinux2010_x86_64.whl (22.2MB)\n",
            "\u001b[K     |████████████████████████████████| 22.2MB 1.4MB/s \n",
            "\u001b[?25hRequirement already satisfied: pytz>=2017.2 in /usr/local/lib/python3.6/dist-packages (from pandas>=1.1.0->sktime) (2018.9)\n",
            "Requirement already satisfied: python-dateutil>=2.7.3 in /usr/local/lib/python3.6/dist-packages (from pandas>=1.1.0->sktime) (2.8.1)\n",
            "Requirement already satisfied: setuptools in /usr/local/lib/python3.6/dist-packages (from numba>=0.50->sktime) (53.0.0)\n",
            "Requirement already satisfied: llvmlite<0.35,>=0.34.0.dev0 in /usr/local/lib/python3.6/dist-packages (from numba>=0.50->sktime) (0.34.0)\n",
            "Requirement already satisfied: scipy>=1.1 in /usr/local/lib/python3.6/dist-packages (from statsmodels>=0.12.1->sktime) (1.4.1)\n",
            "Requirement already satisfied: patsy>=0.5 in /usr/local/lib/python3.6/dist-packages (from statsmodels>=0.12.1->sktime) (0.5.1)\n",
            "Requirement already satisfied: joblib>=0.11 in /usr/local/lib/python3.6/dist-packages (from scikit-learn>=0.23.0->sktime) (1.0.0)\n",
            "Collecting threadpoolctl>=2.0.0\n",
            "  Downloading https://files.pythonhosted.org/packages/f7/12/ec3f2e203afa394a149911729357aa48affc59c20e2c1c8297a60f33f133/threadpoolctl-2.1.0-py3-none-any.whl\n",
            "Requirement already satisfied: six>=1.5 in /usr/local/lib/python3.6/dist-packages (from python-dateutil>=2.7.3->pandas>=1.1.0->sktime) (1.15.0)\n",
            "Installing collected packages: statsmodels, threadpoolctl, scikit-learn, sktime\n",
            "  Found existing installation: statsmodels 0.10.2\n",
            "    Uninstalling statsmodels-0.10.2:\n",
            "      Successfully uninstalled statsmodels-0.10.2\n",
            "  Found existing installation: scikit-learn 0.22.2.post1\n",
            "    Uninstalling scikit-learn-0.22.2.post1:\n",
            "      Successfully uninstalled scikit-learn-0.22.2.post1\n",
            "Successfully installed scikit-learn-0.24.1 sktime-0.5.3 statsmodels-0.12.2 threadpoolctl-2.1.0\n"
          ],
          "name": "stdout"
        }
      ]
    },
    {
      "cell_type": "markdown",
      "metadata": {
        "id": "9-j8GOha1d7b"
      },
      "source": [
        "### 1.1 Read data (1 pt.)\n",
        "[back to contents](#Contents)"
      ]
    },
    {
      "cell_type": "markdown",
      "metadata": {
        "id": "QLASEJX41d7b"
      },
      "source": [
        "Read the downloaded data from your local computer and name it ``` df ```\n",
        "\n",
        "Alternatively, you can skip 1.0 and access data directly putting ```'https://raw.github.com/bdemeshev/ts603/master/2021-spring/BI_TSA_HA_1_data.csv'``` inside ```read_csv```\n",
        "\n",
        "use ``` pd.read_csv('... .csv') ```"
      ]
    },
    {
      "cell_type": "code",
      "metadata": {
        "id": "_YPuM-5_1d7b"
      },
      "source": [
        "#code here (1 pt.)\n",
        "df=pd.read_csv('https://raw.github.com/bdemeshev/ts603/master/2021-spring/BI_TSA_HA_1_data.csv')"
      ],
      "execution_count": 4,
      "outputs": []
    },
    {
      "cell_type": "markdown",
      "metadata": {
        "id": "pDRieTw21d7b"
      },
      "source": [
        "### 1.2 Check NAs (1 pt.)\n",
        "[back to contents](#Contents)"
      ]
    },
    {
      "cell_type": "markdown",
      "metadata": {
        "id": "fzhlVr8c1d7b"
      },
      "source": [
        "Check whether ``` df ``` contains missing values(NAs):\n",
        "\n",
        "apply ``` isna().value_counts() ``` to ``` df ```"
      ]
    },
    {
      "cell_type": "code",
      "metadata": {
        "colab": {
          "base_uri": "https://localhost:8080/"
        },
        "id": "89srkPVS1d7c",
        "outputId": "4eb982c3-26ad-44c9-9c70-f80e47c5c61d"
      },
      "source": [
        "# code here (0.5 pt.)\r\n",
        "df.isna().value_counts()"
      ],
      "execution_count": 5,
      "outputs": [
        {
          "output_type": "execute_result",
          "data": {
            "text/plain": [
              "sales  month  day    year \n",
              "False  False  False  False    147\n",
              "dtype: int64"
            ]
          },
          "metadata": {
            "tags": []
          },
          "execution_count": 5
        }
      ]
    },
    {
      "cell_type": "markdown",
      "metadata": {
        "id": "CtvyhUXZ1d7c"
      },
      "source": [
        "How many missing values are there in ``` df ```?"
      ]
    },
    {
      "cell_type": "code",
      "metadata": {
        "colab": {
          "base_uri": "https://localhost:8080/"
        },
        "id": "DGGzAQ7v1d7c",
        "outputId": "905d0d7c-385f-48ae-dd0c-43c3d7510378"
      },
      "source": [
        "# answer (0.5 pt.)\r\n",
        "0"
      ],
      "execution_count": 34,
      "outputs": [
        {
          "output_type": "execute_result",
          "data": {
            "text/plain": [
              "0"
            ]
          },
          "metadata": {
            "tags": []
          },
          "execution_count": 34
        }
      ]
    },
    {
      "cell_type": "markdown",
      "metadata": {
        "id": "90_ukGUx1d7c"
      },
      "source": [
        "### 1.3 Dates transformation (2 pt.)\n",
        "[back to contents](#Contents)"
      ]
    },
    {
      "cell_type": "markdown",
      "metadata": {
        "id": "gzYDoHnZ1d7c"
      },
      "source": [
        "How are dates represented in the original dataset? "
      ]
    },
    {
      "cell_type": "code",
      "metadata": {
        "colab": {
          "base_uri": "https://localhost:8080/",
          "height": 204
        },
        "id": "awU7JY8E1d7d",
        "outputId": "d762f07d-cdfd-49d2-9087-fa40aeb21be2"
      },
      "source": [
        "# answer (0.5 pt.)\r\n",
        "df.head()"
      ],
      "execution_count": 7,
      "outputs": [
        {
          "output_type": "execute_result",
          "data": {
            "text/html": [
              "<div>\n",
              "<style scoped>\n",
              "    .dataframe tbody tr th:only-of-type {\n",
              "        vertical-align: middle;\n",
              "    }\n",
              "\n",
              "    .dataframe tbody tr th {\n",
              "        vertical-align: top;\n",
              "    }\n",
              "\n",
              "    .dataframe thead th {\n",
              "        text-align: right;\n",
              "    }\n",
              "</style>\n",
              "<table border=\"1\" class=\"dataframe\">\n",
              "  <thead>\n",
              "    <tr style=\"text-align: right;\">\n",
              "      <th></th>\n",
              "      <th>sales</th>\n",
              "      <th>month</th>\n",
              "      <th>day</th>\n",
              "      <th>year</th>\n",
              "    </tr>\n",
              "  </thead>\n",
              "  <tbody>\n",
              "    <tr>\n",
              "      <th>0</th>\n",
              "      <td>134.71</td>\n",
              "      <td>10</td>\n",
              "      <td>31</td>\n",
              "      <td>2020</td>\n",
              "    </tr>\n",
              "    <tr>\n",
              "      <th>1</th>\n",
              "      <td>137.74</td>\n",
              "      <td>7</td>\n",
              "      <td>31</td>\n",
              "      <td>2020</td>\n",
              "    </tr>\n",
              "    <tr>\n",
              "      <th>2</th>\n",
              "      <td>134.62</td>\n",
              "      <td>4</td>\n",
              "      <td>30</td>\n",
              "      <td>2020</td>\n",
              "    </tr>\n",
              "    <tr>\n",
              "      <th>3</th>\n",
              "      <td>141.67</td>\n",
              "      <td>1</td>\n",
              "      <td>31</td>\n",
              "      <td>2020</td>\n",
              "    </tr>\n",
              "    <tr>\n",
              "      <th>4</th>\n",
              "      <td>127.99</td>\n",
              "      <td>10</td>\n",
              "      <td>31</td>\n",
              "      <td>2019</td>\n",
              "    </tr>\n",
              "  </tbody>\n",
              "</table>\n",
              "</div>"
            ],
            "text/plain": [
              "    sales  month  day  year\n",
              "0  134.71     10   31  2020\n",
              "1  137.74      7   31  2020\n",
              "2  134.62      4   30  2020\n",
              "3  141.67      1   31  2020\n",
              "4  127.99     10   31  2019"
            ]
          },
          "metadata": {
            "tags": []
          },
          "execution_count": 7
        }
      ]
    },
    {
      "cell_type": "markdown",
      "metadata": {
        "id": "fYXRs3r81d7d"
      },
      "source": [
        "Transform dates to datetime format:\n",
        "\n",
        "``` df['date']=df['...']*10000+df['...']*100+df['...']*1 ```\n",
        "\n",
        "``` df['date']=pd.to_datetime(df['date'], format='%Y%m%d') ```\n",
        "\n",
        "change each ``` df['...'] ``` to one of ``` df['month'] ```, ``` df['year'] ```, ``` df['day'] ```according to ``` format='%Y%m%d'```"
      ]
    },
    {
      "cell_type": "code",
      "metadata": {
        "id": "4Cf3u6zz1d7d"
      },
      "source": [
        "# code here (0.5 pt.)\r\n",
        "df['date']=df['year']*10000+df['month']*100+df['day']\r\n",
        "df['date']=pd.to_datetime(df['date'],format='%Y%m%d')"
      ],
      "execution_count": 8,
      "outputs": []
    },
    {
      "cell_type": "markdown",
      "metadata": {
        "id": "LpltIzcy1d7d"
      },
      "source": [
        "Change index to dates:\n",
        "\n",
        "``` df.index=.... ```"
      ]
    },
    {
      "cell_type": "code",
      "metadata": {
        "id": "hrKxb73U1d7d"
      },
      "source": [
        "# code here (0.25 pt.)\r\n",
        "df.index=df['date']"
      ],
      "execution_count": 9,
      "outputs": []
    },
    {
      "cell_type": "markdown",
      "metadata": {
        "id": "aCMNf0_w1d7e"
      },
      "source": [
        "What is the size of the dataset?\n",
        "\n",
        "use ```.shape```"
      ]
    },
    {
      "cell_type": "code",
      "metadata": {
        "colab": {
          "base_uri": "https://localhost:8080/"
        },
        "id": "IndXusgc1d7e",
        "outputId": "12b0729a-0a94-4842-d74e-b49aa572cb7e"
      },
      "source": [
        "# code here (0.25 pt.)\r\n",
        "df.shape"
      ],
      "execution_count": 10,
      "outputs": [
        {
          "output_type": "execute_result",
          "data": {
            "text/plain": [
              "(147, 5)"
            ]
          },
          "metadata": {
            "tags": []
          },
          "execution_count": 10
        }
      ]
    },
    {
      "cell_type": "markdown",
      "metadata": {
        "id": "hHXSIjNp1d7e"
      },
      "source": [
        "Drop columns ['day', 'year','month','date']:\n",
        "\n",
        "```df=df.drop(..., axis=1)```"
      ]
    },
    {
      "cell_type": "code",
      "metadata": {
        "id": "648sRp__1d7e"
      },
      "source": [
        "# code here (0.25 pt.)\r\n",
        "df=df.drop('year',axis=1)\r\n",
        "df=df.drop('month',axis=1)\r\n",
        "df=df.drop('day',axis=1)\r\n",
        "df=df.drop('date',axis=1)"
      ],
      "execution_count": 11,
      "outputs": []
    },
    {
      "cell_type": "markdown",
      "metadata": {
        "id": "giSvgo2h1d7e"
      },
      "source": [
        "What is the size of the dataset now?"
      ]
    },
    {
      "cell_type": "code",
      "metadata": {
        "colab": {
          "base_uri": "https://localhost:8080/"
        },
        "id": "SR11E00f1d7e",
        "outputId": "41647f61-6303-486e-b129-c8c0a5901a30"
      },
      "source": [
        "# code here (0.25 pt.)\r\n",
        "df.shape"
      ],
      "execution_count": 12,
      "outputs": [
        {
          "output_type": "execute_result",
          "data": {
            "text/plain": [
              "(147, 1)"
            ]
          },
          "metadata": {
            "tags": []
          },
          "execution_count": 12
        }
      ]
    },
    {
      "cell_type": "markdown",
      "metadata": {
        "id": "FGJDX7iW1d7f"
      },
      "source": [
        "### 1.4 Plot data (0.75 pt.)\n",
        "[back to contents](#Contents)"
      ]
    },
    {
      "cell_type": "markdown",
      "metadata": {
        "id": "SlCdAZYZ1d7f"
      },
      "source": [
        "transform data frame column to series:\n",
        "\n",
        "```y=df['date']```"
      ]
    },
    {
      "cell_type": "code",
      "metadata": {
        "id": "Hl-0TlFp1d7f"
      },
      "source": [
        "# code here (0.25 pt.)\r\n",
        "y=df['sales']"
      ],
      "execution_count": 13,
      "outputs": []
    },
    {
      "cell_type": "markdown",
      "metadata": {
        "id": "Hw8lf1QX1d7f"
      },
      "source": [
        "```plot_series``` gets a series as an argument, whose dates sorted in ascending order.\n",
        "Transform your time series by changing descending order to ascending order:\n",
        "\n",
        "apply ```np.flip``` to ```y``` and name the result ```y```"
      ]
    },
    {
      "cell_type": "code",
      "metadata": {
        "id": "yf6J2WTh1d7f"
      },
      "source": [
        "# code here (0.25 pt.)\r\n",
        "y=np.flip(y)"
      ],
      "execution_count": 14,
      "outputs": []
    },
    {
      "cell_type": "markdown",
      "metadata": {
        "id": "vWzwKlvC1d7f"
      },
      "source": [
        "Plot the series using ```plot_series()```"
      ]
    },
    {
      "cell_type": "code",
      "metadata": {
        "colab": {
          "base_uri": "https://localhost:8080/",
          "height": 299
        },
        "id": "kPj4vGAj1d7g",
        "outputId": "82217b94-bcad-491b-e3f6-bfd453f23882"
      },
      "source": [
        "# code here (0.25 pt.)\r\n",
        "plot_series(y)"
      ],
      "execution_count": 20,
      "outputs": [
        {
          "output_type": "execute_result",
          "data": {
            "text/plain": [
              "(<Figure size 1152x288 with 1 Axes>,\n",
              " <matplotlib.axes._subplots.AxesSubplot at 0x7fd30a2dbe10>)"
            ]
          },
          "metadata": {
            "tags": []
          },
          "execution_count": 20
        },
        {
          "output_type": "display_data",
          "data": {
            "image/png": "[encoded data removed]",
            "text/plain": [
              "<Figure size 1152x288 with 1 Axes>"
            ]
          },
          "metadata": {
            "tags": [],
            "needs_background": "light"
          }
        }
      ]
    },
    {
      "cell_type": "markdown",
      "metadata": {
        "id": "JsApTger1d7g"
      },
      "source": [
        "### 1.5 Split data (0.75 pt.)\n",
        "[back to contents](#Contents)"
      ]
    },
    {
      "cell_type": "markdown",
      "metadata": {
        "id": "N4KDs-rS1d7g"
      },
      "source": [
        "Split the data into train and test samples:\n",
        "\n",
        "``` temporal_train_test_split(...) ```\n",
        "\n",
        "choose ``` test_size=0.2 ```"
      ]
    },
    {
      "cell_type": "code",
      "metadata": {
        "id": "1naUOil-1d7g"
      },
      "source": [
        "# code here (0.5 pt.)\r\n",
        "y_train, y_test = temporal_train_test_split(y,test_size=0.2)"
      ],
      "execution_count": 21,
      "outputs": []
    },
    {
      "cell_type": "markdown",
      "metadata": {
        "id": "kL6pXFNG1d7g"
      },
      "source": [
        "plot train and test samples using ``` plot_series ```"
      ]
    },
    {
      "cell_type": "code",
      "metadata": {
        "id": "4PX1p_OQ1d7g",
        "colab": {
          "base_uri": "https://localhost:8080/",
          "height": 299
        },
        "outputId": "73219204-fe07-4b80-e2c4-6e6434f43030"
      },
      "source": [
        "# code here (0.25 pt.)\r\n",
        "plot_series(y_train,y_test,labels=['train','test'])"
      ],
      "execution_count": 22,
      "outputs": [
        {
          "output_type": "execute_result",
          "data": {
            "text/plain": [
              "(<Figure size 1152x288 with 1 Axes>,\n",
              " <matplotlib.axes._subplots.AxesSubplot at 0x7fd309aa36a0>)"
            ]
          },
          "metadata": {
            "tags": []
          },
          "execution_count": 22
        },
        {
          "output_type": "display_data",
          "data": {
            "image/png": "[encoded data removed]",
            "text/plain": [
              "<Figure size 1152x288 with 1 Axes>"
            ]
          },
          "metadata": {
            "tags": [],
            "needs_background": "light"
          }
        }
      ]
    },
    {
      "cell_type": "markdown",
      "metadata": {
        "id": "dODfswUl1d7h"
      },
      "source": [
        "## 2. ETS (7 pt.)"
      ]
    },
    {
      "cell_type": "markdown",
      "metadata": {
        "id": "e5x6dtVV1d7h"
      },
      "source": [
        "### 2.1 Estimate ETS (MAA) and (AAM) (1 pt.)\n",
        "[back to contents](#Contents)"
      ]
    },
    {
      "cell_type": "markdown",
      "metadata": {
        "id": "Zz0vUdpI1d7h"
      },
      "source": [
        "Start with ETS (MAA). Estimate the model and name it ```model_MAA```:\n",
        "\n",
        "```ETSModel(..., error='...', trend='...', seasonal='...', seasonal_periods=...)```\n",
        "\n",
        "```fit_MAA=model_MAA.fit()```\n"
      ]
    },
    {
      "cell_type": "code",
      "metadata": {
        "id": "ziofAqTl1d7h",
        "colab": {
          "base_uri": "https://localhost:8080/"
        },
        "outputId": "e89c370c-7762-45d7-8de3-6bb8da80ae43"
      },
      "source": [
        "# code here (0.5 pt.)\r\n",
        "model_MAA = ETSModel(y_train, error='mul', trend='add', seasonal='add', seasonal_periods=4)\r\n",
        "fit_MAA=model_MAA.fit()"
      ],
      "execution_count": 23,
      "outputs": [
        {
          "output_type": "stream",
          "text": [
            "/usr/local/lib/python3.6/dist-packages/statsmodels/tsa/base/tsa_model.py:527: ValueWarning: No frequency information was provided, so inferred frequency Q-OCT will be used.\n",
            "  % freq, ValueWarning)\n"
          ],
          "name": "stderr"
        }
      ]
    },
    {
      "cell_type": "markdown",
      "metadata": {
        "id": "v2q7DzQN1d7h"
      },
      "source": [
        "Estimate ETS (AAM) with the same characteristics:\n",
        "    \n",
        "```ETSModel(..., error='...', trend='...', seasonal='...', seasonal_periods=...)```\n",
        "\n",
        "```fit_AAM=model_AAM.fit()```\n"
      ]
    },
    {
      "cell_type": "code",
      "metadata": {
        "id": "Cs9ekf-v1d7h",
        "colab": {
          "base_uri": "https://localhost:8080/"
        },
        "outputId": "40c8a8d9-e4d2-4c00-c9ac-b0c986dbc132"
      },
      "source": [
        "# code here (0.5 pt.)\r\n",
        "model_AAM = ETSModel(y_train, error='add', trend='add', seasonal='mul', seasonal_periods=4)\r\n",
        "fit_AAM=model_AAM.fit()"
      ],
      "execution_count": 24,
      "outputs": [
        {
          "output_type": "stream",
          "text": [
            "/usr/local/lib/python3.6/dist-packages/statsmodels/tsa/base/tsa_model.py:527: ValueWarning: No frequency information was provided, so inferred frequency Q-OCT will be used.\n",
            "  % freq, ValueWarning)\n"
          ],
          "name": "stderr"
        }
      ]
    },
    {
      "cell_type": "markdown",
      "metadata": {
        "id": "DQWzedAi1d7i"
      },
      "source": [
        "### 2.2 Point forecasts (1 pt.)\n",
        "[back to contents](#Contents)"
      ]
    },
    {
      "cell_type": "markdown",
      "metadata": {
        "id": "f5dgg-La1d7i"
      },
      "source": [
        "Obtain point forecasts for ETS(MAA) with forecasting horizon=30 quarters:\n",
        "\n",
        "```fit_MAA.forecast(steps=...)```"
      ]
    },
    {
      "cell_type": "code",
      "metadata": {
        "id": "_to6NIM61d7i",
        "colab": {
          "base_uri": "https://localhost:8080/"
        },
        "outputId": "554aea19-f730-40e0-8395-c4832a083d7c"
      },
      "source": [
        "# code here (0.25 pt.)\r\n",
        "fit_MAA.forecast(steps=30)"
      ],
      "execution_count": 25,
      "outputs": [
        {
          "output_type": "execute_result",
          "data": {
            "text/plain": [
              "2013-07-31    117.848870\n",
              "2013-10-31    117.364671\n",
              "2014-01-31    130.725437\n",
              "2014-04-30    117.901781\n",
              "2014-07-31    121.230478\n",
              "2014-10-31    120.746279\n",
              "2015-01-31    134.107045\n",
              "2015-04-30    121.283388\n",
              "2015-07-31    124.612085\n",
              "2015-10-31    124.127886\n",
              "2016-01-31    137.488652\n",
              "2016-04-30    124.664996\n",
              "2016-07-31    127.993693\n",
              "2016-10-31    127.509494\n",
              "2017-01-31    140.870260\n",
              "2017-04-30    128.046603\n",
              "2017-07-31    131.375301\n",
              "2017-10-31    130.891102\n",
              "2018-01-31    144.251867\n",
              "2018-04-30    131.428211\n",
              "2018-07-31    134.756908\n",
              "2018-10-31    134.272709\n",
              "2019-01-31    147.633475\n",
              "2019-04-30    134.809819\n",
              "2019-07-31    138.138516\n",
              "2019-10-31    137.654317\n",
              "2020-01-31    151.015082\n",
              "2020-04-30    138.191426\n",
              "2020-07-31    141.520123\n",
              "2020-10-31    141.035924\n",
              "Freq: Q-OCT, Name: simulation, dtype: float64"
            ]
          },
          "metadata": {
            "tags": []
          },
          "execution_count": 25
        }
      ]
    },
    {
      "cell_type": "markdown",
      "metadata": {
        "id": "QMERt_hV1d7i"
      },
      "source": [
        "Obtain point forecasts for ETS(AAM) with forecasting horizon=30 quarters:\n",
        "\n",
        "```fit_AAM.forecast(steps=...)```"
      ]
    },
    {
      "cell_type": "code",
      "metadata": {
        "id": "zuRepPUP1d7i",
        "colab": {
          "base_uri": "https://localhost:8080/"
        },
        "outputId": "1c9aaae0-a6e0-46a4-ee18-650d9b756dbc"
      },
      "source": [
        "# code here (0.25 pt.)\r\n",
        "fit_AAM.forecast(steps=30)"
      ],
      "execution_count": 26,
      "outputs": [
        {
          "output_type": "execute_result",
          "data": {
            "text/plain": [
              "2013-07-31    119.244422\n",
              "2013-10-31    117.867103\n",
              "2014-01-31    133.457352\n",
              "2014-04-30    118.815393\n",
              "2014-07-31    124.107317\n",
              "2014-10-31    122.625318\n",
              "2015-01-31    138.791105\n",
              "2015-04-30    123.516990\n",
              "2015-07-31    128.970212\n",
              "2015-10-31    127.383534\n",
              "2016-01-31    144.124858\n",
              "2016-04-30    128.218587\n",
              "2016-07-31    133.833106\n",
              "2016-10-31    132.141749\n",
              "2017-01-31    149.458611\n",
              "2017-04-30    132.920184\n",
              "2017-07-31    138.696001\n",
              "2017-10-31    136.899964\n",
              "2018-01-31    154.792364\n",
              "2018-04-30    137.621780\n",
              "2018-07-31    143.558895\n",
              "2018-10-31    141.658179\n",
              "2019-01-31    160.126117\n",
              "2019-04-30    142.323377\n",
              "2019-07-31    148.421790\n",
              "2019-10-31    146.416394\n",
              "2020-01-31    165.459870\n",
              "2020-04-30    147.024974\n",
              "2020-07-31    153.284684\n",
              "2020-10-31    151.174609\n",
              "Freq: Q-OCT, Name: simulation, dtype: float64"
            ]
          },
          "metadata": {
            "tags": []
          },
          "execution_count": 26
        }
      ]
    },
    {
      "cell_type": "markdown",
      "metadata": {
        "id": "6NUpTBe01d7i"
      },
      "source": [
        "Plot both forecasts (AAM) and (MAA), test and train data\n",
        "\n",
        "```plot_series()```"
      ]
    },
    {
      "cell_type": "code",
      "metadata": {
        "id": "XZOm_CH-1d7i",
        "colab": {
          "base_uri": "https://localhost:8080/",
          "height": 299
        },
        "outputId": "ff10e8e4-0ded-4459-94de-73917c8d58a7"
      },
      "source": [
        "# code here (0.5 pt.)\r\n",
        "plot_series(y_train,y_test,fit_AAM.forecast(steps=30),fit_MAA.forecast(steps=30),labels=['train','test','AAM','MAA'])"
      ],
      "execution_count": 53,
      "outputs": [
        {
          "output_type": "execute_result",
          "data": {
            "text/plain": [
              "(<Figure size 1152x288 with 1 Axes>,\n",
              " <matplotlib.axes._subplots.AxesSubplot at 0x7fd301558d30>)"
            ]
          },
          "metadata": {
            "tags": []
          },
          "execution_count": 53
        },
        {
          "output_type": "display_data",
          "data": {
            "image/png": "[encoded data removed]",
            "text/plain": [
              "<Figure size 1152x288 with 1 Axes>"
            ]
          },
          "metadata": {
            "tags": [],
            "needs_background": "light"
          }
        }
      ]
    },
    {
      "cell_type": "markdown",
      "metadata": {
        "id": "22bCktkC1d7j"
      },
      "source": [
        "### 2.3 Interval forecasts ETS(MAA) (1 pt.)\n",
        "[back to contents](#Contents)"
      ]
    },
    {
      "cell_type": "markdown",
      "metadata": {
        "id": "ua1Oqt_91d7j"
      },
      "source": [
        "Get 95% confidence intervals:\n",
        "\n",
        "```pred_MAA=fit_MAA.get_prediction(start='2013-07-31', end='2020-10-31') ```\n",
        "\n",
        "``` pred_MAA=pred_MAA.summary_frame(alpha=0.05) ```\n",
        "\n",
        "Expract upper and lower bounds from ```pred_MAA``` and name them ```upper_int``` and ```lower_int```\n"
      ]
    },
    {
      "cell_type": "code",
      "metadata": {
        "id": "ICmjmGJC1d7j"
      },
      "source": [
        "# code here (0.5 pt.)\r\n",
        "pred_MAA=fit_MAA.get_prediction(start='2013-07-31', end='2020-10-31')\r\n",
        "pred_MAA=pred_MAA.summary_frame(alpha=0.05)\r\n",
        "upper_int=pred_MAA['pi_upper']\r\n",
        "lower_int=pred_MAA['pi_lower']"
      ],
      "execution_count": 46,
      "outputs": []
    },
    {
      "cell_type": "markdown",
      "metadata": {
        "id": "nbRjVKR21d7j"
      },
      "source": [
        "Plot interval predictions:\n",
        "\n",
        "```plot_series()```"
      ]
    },
    {
      "cell_type": "code",
      "metadata": {
        "scrolled": true,
        "id": "7o6et8951d7j",
        "colab": {
          "base_uri": "https://localhost:8080/",
          "height": 299
        },
        "outputId": "79211a4b-b85a-4acf-dc95-da5acecf82fc"
      },
      "source": [
        "# code here (0.5 pt.)\r\n",
        "plot_series(y_test,upper_int,lower_int)"
      ],
      "execution_count": 47,
      "outputs": [
        {
          "output_type": "execute_result",
          "data": {
            "text/plain": [
              "(<Figure size 1152x288 with 1 Axes>,\n",
              " <matplotlib.axes._subplots.AxesSubplot at 0x7fd3091ac908>)"
            ]
          },
          "metadata": {
            "tags": []
          },
          "execution_count": 47
        },
        {
          "output_type": "display_data",
          "data": {
            "image/png": "[encoded data removed]",
            "text/plain": [
              "<Figure size 1152x288 with 1 Axes>"
            ]
          },
          "metadata": {
            "tags": [],
            "needs_background": "light"
          }
        }
      ]
    },
    {
      "cell_type": "markdown",
      "metadata": {
        "id": "ulR3Ksx41d7j"
      },
      "source": [
        "### 2.4 Interval forecasts ETS(AAM) (1 pt.)\n",
        "[back to contents](#Contents)"
      ]
    },
    {
      "cell_type": "markdown",
      "metadata": {
        "id": "gq1yGEO51d7k"
      },
      "source": [
        "Get 95% confidence intervals:\n",
        "\n",
        "``` pred_AAM=fit_AAM.get_prediction(start='2013-07-31', end='2020-10-31') ```\n",
        "\n",
        "``` pred_AAM=pred_AAM.summary_frame(alpha=0.05) ```\n",
        "\n",
        "Expract upper and lower bounds from ```pred_MAA``` and name them ```upper_int``` and ```lower_int```"
      ]
    },
    {
      "cell_type": "code",
      "metadata": {
        "id": "aM22EFGI1d7k"
      },
      "source": [
        "# code here (0.5 pt.)\r\n",
        "pred_AAM=fit_AAM.get_prediction(start='2013-07-31', end='2020-10-31')\r\n",
        "pred_AAM=pred_AAM.summary_frame(alpha=0.05)\r\n",
        "upper_int=pred_AAM['pi_upper']\r\n",
        "lower_int=pred_AAM['pi_lower']"
      ],
      "execution_count": 48,
      "outputs": []
    },
    {
      "cell_type": "markdown",
      "metadata": {
        "id": "Zf25LeR81d7k"
      },
      "source": [
        "Plot interval predictions:\n",
        "\n",
        "```plot_series()```"
      ]
    },
    {
      "cell_type": "code",
      "metadata": {
        "scrolled": true,
        "id": "0jRPNaAO1d7k",
        "colab": {
          "base_uri": "https://localhost:8080/",
          "height": 299
        },
        "outputId": "d5764a2c-f483-4d22-ae48-e577cf23b381"
      },
      "source": [
        "# code here (0.5 pt.)\r\n",
        "plot_series(y_test,upper_int,lower_int)"
      ],
      "execution_count": 49,
      "outputs": [
        {
          "output_type": "execute_result",
          "data": {
            "text/plain": [
              "(<Figure size 1152x288 with 1 Axes>,\n",
              " <matplotlib.axes._subplots.AxesSubplot at 0x7fd309122630>)"
            ]
          },
          "metadata": {
            "tags": []
          },
          "execution_count": 49
        },
        {
          "output_type": "display_data",
          "data": {
            "image/png": "[encoded data removed]",
            "text/plain": [
              "<Figure size 1152x288 with 1 Axes>"
            ]
          },
          "metadata": {
            "tags": [],
            "needs_background": "light"
          }
        }
      ]
    },
    {
      "cell_type": "markdown",
      "metadata": {
        "id": "Fv7DlKag1d7k"
      },
      "source": [
        "### 2.5 Forecast quality metrics (2 pt.)\n",
        "[back to contents](#Contents)"
      ]
    },
    {
      "cell_type": "markdown",
      "metadata": {
        "id": "FEO9OQr81d7k"
      },
      "source": [
        "Calculate the following metrics for both ETS(MAA) and ETS(AAM) predictions:"
      ]
    },
    {
      "cell_type": "markdown",
      "metadata": {
        "id": "FfcwWU0l1d7k"
      },
      "source": [
        "$MAE = \\frac{\\sum\\limits_{i=1}^n |y_i-\\hat{y}_i|}{n}$\n",
        "\n",
        "```python\n",
        "sklearn.metrics.mean_absolute_error\n",
        "```"
      ]
    },
    {
      "cell_type": "code",
      "metadata": {
        "id": "sUbbtOEP1d7l",
        "colab": {
          "base_uri": "https://localhost:8080/"
        },
        "outputId": "0d24ad46-5596-4a6f-d6f5-cbf505c2e83f"
      },
      "source": [
        "# code here (0.5 pt.) MAA\r\n",
        "mean_absolute_error(y_test,fit_MAA.forecast(steps=30))"
      ],
      "execution_count": 64,
      "outputs": [
        {
          "output_type": "execute_result",
          "data": {
            "text/plain": [
              "6.394546605755498"
            ]
          },
          "metadata": {
            "tags": []
          },
          "execution_count": 64
        }
      ]
    },
    {
      "cell_type": "code",
      "metadata": {
        "id": "aBAlWu821d7l",
        "colab": {
          "base_uri": "https://localhost:8080/"
        },
        "outputId": "0a724124-2291-48c8-d65d-ea6db170ed57"
      },
      "source": [
        "# code here (0.5 pt.) AAM\r\n",
        "mean_absolute_error(y_test,fit_AAM.forecast(steps=30))"
      ],
      "execution_count": 57,
      "outputs": [
        {
          "output_type": "execute_result",
          "data": {
            "text/plain": [
              "12.709161383337841"
            ]
          },
          "metadata": {
            "tags": []
          },
          "execution_count": 57
        }
      ]
    },
    {
      "cell_type": "markdown",
      "metadata": {
        "id": "S0ab8p9f1d7m"
      },
      "source": [
        "$MSE = \\frac{\\sum\\limits_{i=1}^n (y_i-\\hat{y}_i)^2}{n}$\n",
        "\n",
        "```python\n",
        "sklearn.metrics.mean_squared_error\n",
        "```"
      ]
    },
    {
      "cell_type": "code",
      "metadata": {
        "id": "Ak036es81d7m",
        "colab": {
          "base_uri": "https://localhost:8080/"
        },
        "outputId": "2a42c024-5f72-4ead-f8b6-8ab65358e094"
      },
      "source": [
        "# code here (0.5 pt.) MAA\r\n",
        "mean_squared_error(y_test,fit_MAA.forecast(steps=30))"
      ],
      "execution_count": 58,
      "outputs": [
        {
          "output_type": "execute_result",
          "data": {
            "text/plain": [
              "50.57147037477893"
            ]
          },
          "metadata": {
            "tags": []
          },
          "execution_count": 58
        }
      ]
    },
    {
      "cell_type": "code",
      "metadata": {
        "id": "v7b7LrNT1d7m",
        "colab": {
          "base_uri": "https://localhost:8080/"
        },
        "outputId": "1c2d8c9f-4a0f-41be-ac0c-99c287436bcd"
      },
      "source": [
        "# code here (0.5 pt.) AAM\r\n",
        "mean_squared_error(y_test,fit_AAM.forecast(steps=30))"
      ],
      "execution_count": 59,
      "outputs": [
        {
          "output_type": "execute_result",
          "data": {
            "text/plain": [
              "195.9700976122845"
            ]
          },
          "metadata": {
            "tags": []
          },
          "execution_count": 59
        }
      ]
    },
    {
      "cell_type": "markdown",
      "metadata": {
        "id": "qTPw7qyH1d7m"
      },
      "source": [
        "$MAPE = \\frac{100}{n}\\frac{\\sum\\limits_{i=1}^n |y_i-\\hat{y}_i|}{y_i}$ \n",
        "\n",
        "```python\n",
        "def mean_absolute_percentage_error(y_true, y_pred): \n",
        "    return np.mean(np.abs((y_true - y_pred) / y_true)) * 100\n",
        "```"
      ]
    },
    {
      "cell_type": "markdown",
      "metadata": {
        "id": "aABks0Aa1d7m"
      },
      "source": [
        "Create a new function to calculate MAPE"
      ]
    },
    {
      "cell_type": "code",
      "metadata": {
        "id": "VknHQ1Ik1d7n"
      },
      "source": [
        "# code here (0.5 pt.)\r\n",
        "def mean_absolute_percentage_error(y_true, y_pred): \r\n",
        "    return np.mean(np.abs((y_true - y_pred) / y_true)) * 100"
      ],
      "execution_count": 60,
      "outputs": []
    },
    {
      "cell_type": "markdown",
      "metadata": {
        "id": "k-QI8PHV1d7n"
      },
      "source": [
        "Calculate MAPE:"
      ]
    },
    {
      "cell_type": "code",
      "metadata": {
        "id": "lhqw8uUj1d7n",
        "colab": {
          "base_uri": "https://localhost:8080/"
        },
        "outputId": "639aa534-04b9-463d-e654-d1660d37c448"
      },
      "source": [
        "# code here (0.25 pt.) MAA\r\n",
        "mean_absolute_percentage_error(y_test,fit_MAA.forecast(steps=30))"
      ],
      "execution_count": 61,
      "outputs": [
        {
          "output_type": "execute_result",
          "data": {
            "text/plain": [
              "5.091701024681435"
            ]
          },
          "metadata": {
            "tags": []
          },
          "execution_count": 61
        }
      ]
    },
    {
      "cell_type": "code",
      "metadata": {
        "id": "c4Q-sF9u1d7n",
        "colab": {
          "base_uri": "https://localhost:8080/"
        },
        "outputId": "b7759c58-5a89-4790-8090-7d20c44cefdf"
      },
      "source": [
        "# code here (0.25 pt.) AAM\r\n",
        "mean_absolute_percentage_error(y_test,fit_AAM.forecast(steps=30))"
      ],
      "execution_count": 62,
      "outputs": [
        {
          "output_type": "execute_result",
          "data": {
            "text/plain": [
              "9.993524328604307"
            ]
          },
          "metadata": {
            "tags": []
          },
          "execution_count": 62
        }
      ]
    },
    {
      "cell_type": "markdown",
      "metadata": {
        "id": "mL8ZaGmM1d7n"
      },
      "source": [
        "### 2.6 What is the best model according to the metrics above? (1 pt.)"
      ]
    },
    {
      "cell_type": "code",
      "metadata": {
        "id": "BjFK3XRu1d7o"
      },
      "source": [
        "# code here (1 pt.)\r\n",
        "ETS(MAA)"
      ],
      "execution_count": null,
      "outputs": []
    }
  ]
}